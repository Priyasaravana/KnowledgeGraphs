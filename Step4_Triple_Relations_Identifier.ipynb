{
 "cells": [
  {
   "cell_type": "code",
   "execution_count": 2,
   "metadata": {},
   "outputs": [
    {
     "name": "stdout",
     "output_type": "stream",
     "text": [
      "          head          relation           tail\n",
      "0    book_3725         won_award       award_85\n",
      "1    book_1435      published_by  publisher_152\n",
      "2   author_944             wrote      book_3099\n",
      "3  reader_4577              read      book_2631\n",
      "4    book_1633  belongs_to_genre       genre_11\n"
     ]
    }
   ],
   "source": [
    "import pandas as pd\n",
    "\n",
    "# Load the dataset\n",
    "df = pd.read_csv('data/books_graph_facts.csv')\n",
    "\n",
    "# Display the first few rows to inspect the structure\n",
    "print(df.head())\n"
   ]
  },
  {
   "cell_type": "code",
   "execution_count": 3,
   "metadata": {},
   "outputs": [
    {
     "name": "stdout",
     "output_type": "stream",
     "text": [
      "Unique Entities: 11570\n",
      "Unique Relations: ['won_award' 'published_by' 'wrote' 'read' 'belongs_to_genre']\n"
     ]
    }
   ],
   "source": [
    "# Get unique entities from 'head' and 'tail' columns\n",
    "unique_entities = pd.unique(df[['head', 'tail']].values.ravel('K'))\n",
    "\n",
    "# Get unique relations\n",
    "unique_relations = df['relation'].unique()\n",
    "\n",
    "print(f\"Unique Entities: {len(unique_entities)}\")\n",
    "print(f\"Unique Relations: {unique_relations}\")"
   ]
  },
  {
   "cell_type": "code",
   "execution_count": 4,
   "metadata": {},
   "outputs": [
    {
     "name": "stdout",
     "output_type": "stream",
     "text": [
      "Relation Frequency:\n",
      "relation\n",
      "read                257137\n",
      "won_award            86226\n",
      "belongs_to_genre     85646\n",
      "wrote                85565\n",
      "published_by         85426\n",
      "Name: count, dtype: int64\n"
     ]
    }
   ],
   "source": [
    "# Frequency of relations\n",
    "relation_counts = df['relation'].value_counts()\n",
    "\n",
    "print(\"Relation Frequency:\")\n",
    "print(relation_counts)"
   ]
  },
  {
   "cell_type": "code",
   "execution_count": 5,
   "metadata": {},
   "outputs": [
    {
     "name": "stdout",
     "output_type": "stream",
     "text": [
      "Books belonging to genres:          head          relation      tail\n",
      "4   book_1633  belongs_to_genre  genre_11\n",
      "12  book_2510  belongs_to_genre  genre_15\n",
      "22  book_1769  belongs_to_genre  genre_17\n",
      "31  book_3084  belongs_to_genre  genre_13\n",
      "61  book_4350  belongs_to_genre  genre_17\n",
      "Books published by publishers:          head      relation           tail\n",
      "1   book_1435  published_by  publisher_152\n",
      "14  book_3503  published_by   publisher_97\n",
      "15  book_1085  published_by   publisher_47\n",
      "29   book_505  published_by  publisher_199\n",
      "49   book_777  published_by  publisher_203\n"
     ]
    }
   ],
   "source": [
    "# Analyze the 'belongs_to_genre' relation\n",
    "genre_relations = df[df['relation'] == 'belongs_to_genre']\n",
    "print(f\"Books belonging to genres: {genre_relations.head()}\")\n",
    "\n",
    "# Analyze the 'published_by' relation\n",
    "publisher_relations = df[df['relation'] == 'published_by']\n",
    "print(f\"Books published by publishers: {publisher_relations.head()}\")"
   ]
  },
  {
   "cell_type": "code",
   "execution_count": 6,
   "metadata": {},
   "outputs": [
    {
     "name": "stdout",
     "output_type": "stream",
     "text": [
      "          head relation       tail\n",
      "2   author_944    wrote  book_3099\n",
      "16  author_188    wrote  book_3740\n",
      "17  author_175    wrote  book_3593\n",
      "18   author_25    wrote   book_223\n",
      "19  author_838    wrote  book_4485\n"
     ]
    }
   ],
   "source": [
    "# Filter relations where the head is an author and the relation is 'wrote'\n",
    "author_book_relations = df[(df['relation'] == 'wrote') & (df['head'].str.contains('author'))]\n",
    "print(author_book_relations.head())"
   ]
  },
  {
   "cell_type": "markdown",
   "metadata": {},
   "source": [
    "### Identify the type of relation"
   ]
  },
  {
   "cell_type": "markdown",
   "metadata": {},
   "source": [
    "* Symmetric: If for any triple (A, R, B) exists, then the reverse triple (B, R, A) should also exist.  \n",
    "* Asymmetric: If for any triple (A, R, B) exists, then the reverse triple (B, R, A) should not exist.  \n",
    "* 1-to-N: A single head entity is associated with multiple tail entities for the same relation.  \n",
    "* Compositional: Involves multiple relations between different entities that infer a new relation.\n",
    "\n",
    "![Relations between entities](./resources/Relations.png)"
   ]
  },
  {
   "cell_type": "code",
   "execution_count": 7,
   "metadata": {},
   "outputs": [],
   "source": [
    "# Initialize the new column with default value 'unknown'\n",
    "df['relation_type'] = 'unknown'"
   ]
  },
  {
   "cell_type": "code",
   "execution_count": 8,
   "metadata": {},
   "outputs": [
    {
     "data": {
      "text/html": [
       "<div>\n",
       "<style scoped>\n",
       "    .dataframe tbody tr th:only-of-type {\n",
       "        vertical-align: middle;\n",
       "    }\n",
       "\n",
       "    .dataframe tbody tr th {\n",
       "        vertical-align: top;\n",
       "    }\n",
       "\n",
       "    .dataframe thead th {\n",
       "        text-align: right;\n",
       "    }\n",
       "</style>\n",
       "<table border=\"1\" class=\"dataframe\">\n",
       "  <thead>\n",
       "    <tr style=\"text-align: right;\">\n",
       "      <th></th>\n",
       "      <th>head</th>\n",
       "      <th>relation</th>\n",
       "      <th>tail</th>\n",
       "      <th>relation_type</th>\n",
       "    </tr>\n",
       "  </thead>\n",
       "  <tbody>\n",
       "    <tr>\n",
       "      <th>0</th>\n",
       "      <td>book_3725</td>\n",
       "      <td>won_award</td>\n",
       "      <td>award_85</td>\n",
       "      <td>unknown</td>\n",
       "    </tr>\n",
       "    <tr>\n",
       "      <th>1</th>\n",
       "      <td>book_1435</td>\n",
       "      <td>published_by</td>\n",
       "      <td>publisher_152</td>\n",
       "      <td>unknown</td>\n",
       "    </tr>\n",
       "  </tbody>\n",
       "</table>\n",
       "</div>"
      ],
      "text/plain": [
       "        head      relation           tail relation_type\n",
       "0  book_3725     won_award       award_85       unknown\n",
       "1  book_1435  published_by  publisher_152       unknown"
      ]
     },
     "execution_count": 8,
     "metadata": {},
     "output_type": "execute_result"
    }
   ],
   "source": [
    "df.head(2)"
   ]
  },
  {
   "cell_type": "code",
   "execution_count": 9,
   "metadata": {},
   "outputs": [],
   "source": [
    "def check_one_to_n(df, relation):\n",
    "    \"\"\"\n",
    "    Check if a given relation is 1-to-N.\n",
    "    A relation is 1-to-N if a single head entity is associated with multiple tail entities.\n",
    "    \"\"\"\n",
    "    # Group by head and relation, and count the number of unique tails\n",
    "    head_relation_counts = df[df['relation'] == relation].groupby('head').size()\n",
    "    \n",
    "    # Check if any head entity has more than 1 associated tail\n",
    "    return head_relation_counts.max() > 1"
   ]
  },
  {
   "cell_type": "code",
   "execution_count": 10,
   "metadata": {},
   "outputs": [],
   "source": [
    "def check_compositional_relation(df, relation1, relation2, implied_relation):\n",
    "    \"\"\"\n",
    "    Check if two relations (relation1 and relation2) compose to imply a third relation.\n",
    "    For example:\n",
    "    (A, relation1, B) and (B, relation2, C) => (A, implied_relation, C)\n",
    "    \"\"\"\n",
    "    # Find all triples for the first relation\n",
    "    comp_found = False\n",
    "    for index, row in df[df['relation'] == relation1].iterrows():\n",
    "        head1, tail1 = row['head'], row['tail']\n",
    "        \n",
    "        # Look for the second relation where the head is the tail of the first relation\n",
    "        matching_rows = df[(df['head'] == tail1) & (df['relation'] == relation2)]\n",
    "        \n",
    "        # If we find a match, check if the implied relation exists\n",
    "        for _, match_row in matching_rows.iterrows():\n",
    "            tail2 = match_row['tail']\n",
    "            \n",
    "            # Check if the implied relation exists\n",
    "            if (df[(df['head'] == head1) & (df['tail'] == tail2) & (df['relation'] == implied_relation)].empty):\n",
    "                # If the implied relation is missing, mark as compositional\n",
    "                comp_found = True\n",
    "                print(f\"Compositional relation found: ({head1}, {relation1}, {tail1}) + ({tail1}, {relation2}, {tail2}) => ({head1}, {implied_relation}, {tail2})\")\n",
    "                break\n",
    "    \n",
    "    return comp_found"
   ]
  },
  {
   "cell_type": "code",
   "execution_count": 11,
   "metadata": {},
   "outputs": [],
   "source": [
    "def get_relation_type(df, relation):\n",
    "    \"\"\"\n",
    "    Determine if a relation is symmetric, asymmetric, 1-to-N, or compositional.\n",
    "    \"\"\"\n",
    "    is_symmetric = True\n",
    "    is_asymmetric = True\n",
    "    is_one_to_n = check_one_to_n(df, relation)\n",
    "    #is_compositional = check_compositional_relation(df, 'isFatherOf', 'isBrotherOf', 'isUncleOf')  # Adjust based on your dataset relations\n",
    "\n",
    "    for index, row in df[df['relation'] == relation].iterrows():\n",
    "        head, tail = row['head'], row['tail']\n",
    "        \n",
    "        # Check for reverse triple (head, relation, tail) -> (tail, relation, head)\n",
    "        if not ((df['head'] == tail) & (df['tail'] == head) & (df['relation'] == relation)).any():\n",
    "            is_symmetric = False\n",
    "        if ((df['head'] == tail) & (df['tail'] == head) & (df['relation'] == relation)).any():\n",
    "            is_asymmetric = False\n",
    "\n",
    "    # if is_compositional:\n",
    "    #     return 'compositional'\n",
    "    # elif is_symmetric:\n",
    "    if is_symmetric:\n",
    "        return 'symmetric'\n",
    "    elif is_asymmetric:\n",
    "        return 'asymmetric'\n",
    "    elif is_one_to_n:\n",
    "        return '1-to-N'\n",
    "    else:\n",
    "        return 'unknown'"
   ]
  },
  {
   "cell_type": "code",
   "execution_count": 1,
   "metadata": {},
   "outputs": [
    {
     "ename": "NameError",
     "evalue": "name 'df' is not defined",
     "output_type": "error",
     "traceback": [
      "\u001b[1;31m---------------------------------------------------------------------------\u001b[0m",
      "\u001b[1;31mNameError\u001b[0m                                 Traceback (most recent call last)",
      "Cell \u001b[1;32mIn[1], line 2\u001b[0m\n\u001b[0;32m      1\u001b[0m \u001b[38;5;66;03m# Get unique relations to apply the checks only once per relation type\u001b[39;00m\n\u001b[1;32m----> 2\u001b[0m unique_relations \u001b[38;5;241m=\u001b[39m \u001b[43mdf\u001b[49m[\u001b[38;5;124m'\u001b[39m\u001b[38;5;124mrelation\u001b[39m\u001b[38;5;124m'\u001b[39m]\u001b[38;5;241m.\u001b[39munique()\n\u001b[0;32m      4\u001b[0m \u001b[38;5;66;03m# Loop through each relation type and apply the relation type check\u001b[39;00m\n\u001b[0;32m      5\u001b[0m \u001b[38;5;28;01mfor\u001b[39;00m relation \u001b[38;5;129;01min\u001b[39;00m unique_relations:\n",
      "\u001b[1;31mNameError\u001b[0m: name 'df' is not defined"
     ]
    }
   ],
   "source": [
    "# Get unique relations to apply the checks only once per relation type\n",
    "unique_relations = df['relation'].unique()\n",
    "\n",
    "# Loop through each relation type and apply the relation type check\n",
    "for relation in unique_relations:\n",
    "    relation_type = get_relation_type(df, relation)\n",
    "    \n",
    "    # Update the 'relation_type' column for all rows that have the same relation\n",
    "    df.loc[df['relation'] == relation, 'relation_type'] = relation_type\n",
    "\n",
    "# Verify the updated DataFrame\n",
    "print(df.head())"
   ]
  },
  {
   "cell_type": "code",
   "execution_count": null,
   "metadata": {},
   "outputs": [],
   "source": [
    "# Save the updated dataset to a new CSV file\n",
    "df.to_csv('updated_books_graph_with_relations_data.csv', index=False)"
   ]
  },
  {
   "cell_type": "code",
   "execution_count": null,
   "metadata": {},
   "outputs": [],
   "source": []
  },
  {
   "cell_type": "code",
   "execution_count": null,
   "metadata": {},
   "outputs": [],
   "source": []
  },
  {
   "cell_type": "code",
   "execution_count": null,
   "metadata": {},
   "outputs": [],
   "source": []
  },
  {
   "cell_type": "code",
   "execution_count": null,
   "metadata": {},
   "outputs": [],
   "source": []
  }
 ],
 "metadata": {
  "kernelspec": {
   "display_name": "Python 3",
   "language": "python",
   "name": "python3"
  },
  "language_info": {
   "codemirror_mode": {
    "name": "ipython",
    "version": 3
   },
   "file_extension": ".py",
   "mimetype": "text/x-python",
   "name": "python",
   "nbconvert_exporter": "python",
   "pygments_lexer": "ipython3",
   "version": "3.12.7"
  }
 },
 "nbformat": 4,
 "nbformat_minor": 2
}
